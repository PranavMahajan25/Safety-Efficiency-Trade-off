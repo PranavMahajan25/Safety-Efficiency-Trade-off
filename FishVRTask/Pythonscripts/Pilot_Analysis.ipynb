{
 "cells": [
  {
   "cell_type": "code",
   "execution_count": 1,
   "id": "a72879a6",
   "metadata": {},
   "outputs": [],
   "source": [
    "import numpy as np\n",
    "import pandas as pd\n",
    "import matplotlib.pyplot as plt"
   ]
  },
  {
   "cell_type": "code",
   "execution_count": 2,
   "id": "71fac0b0",
   "metadata": {},
   "outputs": [],
   "source": [
    "behavioural_df = pd.read_csv('FishTaskPilotData/Data/subj19/SUBJ19_Left.csv')\n",
    "full_seq_df = pd.read_csv('full_seq.csv')\n",
    "behavioural_df = behavioural_df.join(full_seq_df)"
   ]
  },
  {
   "cell_type": "code",
   "execution_count": 3,
   "id": "da205cd3",
   "metadata": {},
   "outputs": [
    {
     "data": {
      "text/plain": [
       "123"
      ]
     },
     "execution_count": 3,
     "metadata": {},
     "output_type": "execute_result"
    }
   ],
   "source": [
    "np.sum(behavioural_df['Action'] == 'approach')"
   ]
  },
  {
   "cell_type": "code",
   "execution_count": 4,
   "id": "885bf35a",
   "metadata": {},
   "outputs": [
    {
     "data": {
      "text/plain": [
       "108"
      ]
     },
     "execution_count": 4,
     "metadata": {},
     "output_type": "execute_result"
    }
   ],
   "source": [
    "np.sum(behavioural_df['Action'] == 'withdrawal')"
   ]
  },
  {
   "cell_type": "code",
   "execution_count": 5,
   "id": "6398ca61",
   "metadata": {},
   "outputs": [
    {
     "data": {
      "text/plain": [
       "0"
      ]
     },
     "execution_count": 5,
     "metadata": {},
     "output_type": "execute_result"
    }
   ],
   "source": [
    "np.sum(behavioural_df['Action'] == 'inactive')"
   ]
  },
  {
   "cell_type": "code",
   "execution_count": 6,
   "id": "453aff8a",
   "metadata": {},
   "outputs": [
    {
     "data": {
      "text/html": [
       "<div>\n",
       "<style scoped>\n",
       "    .dataframe tbody tr th:only-of-type {\n",
       "        vertical-align: middle;\n",
       "    }\n",
       "\n",
       "    .dataframe tbody tr th {\n",
       "        vertical-align: top;\n",
       "    }\n",
       "\n",
       "    .dataframe thead th {\n",
       "        text-align: right;\n",
       "    }\n",
       "</style>\n",
       "<table border=\"1\" class=\"dataframe\">\n",
       "  <thead>\n",
       "    <tr style=\"text-align: right;\">\n",
       "      <th></th>\n",
       "      <th>Trial</th>\n",
       "      <th>Action</th>\n",
       "      <th>ReactionTime</th>\n",
       "      <th>TrialStartTime</th>\n",
       "      <th>TrialEndTime</th>\n",
       "      <th>ShockGiven</th>\n",
       "      <th>cue1</th>\n",
       "      <th>cue2</th>\n",
       "      <th>cue3</th>\n",
       "      <th>cue4</th>\n",
       "      <th>resultGo</th>\n",
       "      <th>resultNoGo</th>\n",
       "    </tr>\n",
       "  </thead>\n",
       "  <tbody>\n",
       "    <tr>\n",
       "      <th>0</th>\n",
       "      <td>2</td>\n",
       "      <td>withdrawal</td>\n",
       "      <td>0.733360</td>\n",
       "      <td>8.77138</td>\n",
       "      <td>13.28032</td>\n",
       "      <td>True</td>\n",
       "      <td>0.0</td>\n",
       "      <td>0.0</td>\n",
       "      <td>1.0</td>\n",
       "      <td>0.0</td>\n",
       "      <td>0.0</td>\n",
       "      <td>1.0</td>\n",
       "    </tr>\n",
       "    <tr>\n",
       "      <th>1</th>\n",
       "      <td>3</td>\n",
       "      <td>withdrawal</td>\n",
       "      <td>1.621835</td>\n",
       "      <td>16.11245</td>\n",
       "      <td>21.51014</td>\n",
       "      <td>True</td>\n",
       "      <td>0.0</td>\n",
       "      <td>0.0</td>\n",
       "      <td>0.0</td>\n",
       "      <td>1.0</td>\n",
       "      <td>0.0</td>\n",
       "      <td>1.0</td>\n",
       "    </tr>\n",
       "    <tr>\n",
       "      <th>2</th>\n",
       "      <td>4</td>\n",
       "      <td>approach</td>\n",
       "      <td>1.954744</td>\n",
       "      <td>25.87472</td>\n",
       "      <td>31.60616</td>\n",
       "      <td>True</td>\n",
       "      <td>0.0</td>\n",
       "      <td>0.0</td>\n",
       "      <td>0.0</td>\n",
       "      <td>1.0</td>\n",
       "      <td>1.0</td>\n",
       "      <td>0.0</td>\n",
       "    </tr>\n",
       "    <tr>\n",
       "      <th>3</th>\n",
       "      <td>5</td>\n",
       "      <td>approach</td>\n",
       "      <td>1.421183</td>\n",
       "      <td>31.61670</td>\n",
       "      <td>36.81497</td>\n",
       "      <td>True</td>\n",
       "      <td>0.0</td>\n",
       "      <td>1.0</td>\n",
       "      <td>0.0</td>\n",
       "      <td>0.0</td>\n",
       "      <td>1.0</td>\n",
       "      <td>0.0</td>\n",
       "    </tr>\n",
       "    <tr>\n",
       "      <th>4</th>\n",
       "      <td>6</td>\n",
       "      <td>approach</td>\n",
       "      <td>1.643661</td>\n",
       "      <td>39.49073</td>\n",
       "      <td>44.91050</td>\n",
       "      <td>False</td>\n",
       "      <td>0.0</td>\n",
       "      <td>0.0</td>\n",
       "      <td>1.0</td>\n",
       "      <td>0.0</td>\n",
       "      <td>0.0</td>\n",
       "      <td>0.0</td>\n",
       "    </tr>\n",
       "    <tr>\n",
       "      <th>...</th>\n",
       "      <td>...</td>\n",
       "      <td>...</td>\n",
       "      <td>...</td>\n",
       "      <td>...</td>\n",
       "      <td>...</td>\n",
       "      <td>...</td>\n",
       "      <td>...</td>\n",
       "      <td>...</td>\n",
       "      <td>...</td>\n",
       "      <td>...</td>\n",
       "      <td>...</td>\n",
       "      <td>...</td>\n",
       "    </tr>\n",
       "    <tr>\n",
       "      <th>235</th>\n",
       "      <td>237</td>\n",
       "      <td>withdrawal</td>\n",
       "      <td>0.744266</td>\n",
       "      <td>1642.19700</td>\n",
       "      <td>1646.71700</td>\n",
       "      <td>False</td>\n",
       "      <td>0.0</td>\n",
       "      <td>1.0</td>\n",
       "      <td>0.0</td>\n",
       "      <td>0.0</td>\n",
       "      <td>1.0</td>\n",
       "      <td>0.0</td>\n",
       "    </tr>\n",
       "    <tr>\n",
       "      <th>236</th>\n",
       "      <td>238</td>\n",
       "      <td>approach</td>\n",
       "      <td>0.953107</td>\n",
       "      <td>1646.76100</td>\n",
       "      <td>1651.48100</td>\n",
       "      <td>False</td>\n",
       "      <td>1.0</td>\n",
       "      <td>0.0</td>\n",
       "      <td>0.0</td>\n",
       "      <td>0.0</td>\n",
       "      <td>0.0</td>\n",
       "      <td>1.0</td>\n",
       "    </tr>\n",
       "    <tr>\n",
       "      <th>237</th>\n",
       "      <td>239</td>\n",
       "      <td>withdrawal</td>\n",
       "      <td>0.644552</td>\n",
       "      <td>1652.92500</td>\n",
       "      <td>1657.35700</td>\n",
       "      <td>False</td>\n",
       "      <td>0.0</td>\n",
       "      <td>1.0</td>\n",
       "      <td>0.0</td>\n",
       "      <td>0.0</td>\n",
       "      <td>1.0</td>\n",
       "      <td>0.0</td>\n",
       "    </tr>\n",
       "    <tr>\n",
       "      <th>238</th>\n",
       "      <td>240</td>\n",
       "      <td>withdrawal</td>\n",
       "      <td>1.665944</td>\n",
       "      <td>1657.52300</td>\n",
       "      <td>1662.96600</td>\n",
       "      <td>False</td>\n",
       "      <td>0.0</td>\n",
       "      <td>0.0</td>\n",
       "      <td>0.0</td>\n",
       "      <td>1.0</td>\n",
       "      <td>1.0</td>\n",
       "      <td>0.0</td>\n",
       "    </tr>\n",
       "    <tr>\n",
       "      <th>239</th>\n",
       "      <td>241</td>\n",
       "      <td>withdrawal</td>\n",
       "      <td>0.633123</td>\n",
       "      <td>1663.41000</td>\n",
       "      <td>1667.82000</td>\n",
       "      <td>False</td>\n",
       "      <td>0.0</td>\n",
       "      <td>1.0</td>\n",
       "      <td>0.0</td>\n",
       "      <td>0.0</td>\n",
       "      <td>1.0</td>\n",
       "      <td>0.0</td>\n",
       "    </tr>\n",
       "  </tbody>\n",
       "</table>\n",
       "<p>240 rows × 12 columns</p>\n",
       "</div>"
      ],
      "text/plain": [
       "     Trial      Action  ReactionTime  TrialStartTime  TrialEndTime  \\\n",
       "0        2  withdrawal      0.733360         8.77138      13.28032   \n",
       "1        3  withdrawal      1.621835        16.11245      21.51014   \n",
       "2        4    approach      1.954744        25.87472      31.60616   \n",
       "3        5    approach      1.421183        31.61670      36.81497   \n",
       "4        6    approach      1.643661        39.49073      44.91050   \n",
       "..     ...         ...           ...             ...           ...   \n",
       "235    237  withdrawal      0.744266      1642.19700    1646.71700   \n",
       "236    238    approach      0.953107      1646.76100    1651.48100   \n",
       "237    239  withdrawal      0.644552      1652.92500    1657.35700   \n",
       "238    240  withdrawal      1.665944      1657.52300    1662.96600   \n",
       "239    241  withdrawal      0.633123      1663.41000    1667.82000   \n",
       "\n",
       "     ShockGiven  cue1  cue2  cue3  cue4  resultGo  resultNoGo  \n",
       "0          True   0.0   0.0   1.0   0.0       0.0         1.0  \n",
       "1          True   0.0   0.0   0.0   1.0       0.0         1.0  \n",
       "2          True   0.0   0.0   0.0   1.0       1.0         0.0  \n",
       "3          True   0.0   1.0   0.0   0.0       1.0         0.0  \n",
       "4         False   0.0   0.0   1.0   0.0       0.0         0.0  \n",
       "..          ...   ...   ...   ...   ...       ...         ...  \n",
       "235       False   0.0   1.0   0.0   0.0       1.0         0.0  \n",
       "236       False   1.0   0.0   0.0   0.0       0.0         1.0  \n",
       "237       False   0.0   1.0   0.0   0.0       1.0         0.0  \n",
       "238       False   0.0   0.0   0.0   1.0       1.0         0.0  \n",
       "239       False   0.0   1.0   0.0   0.0       1.0         0.0  \n",
       "\n",
       "[240 rows x 12 columns]"
      ]
     },
     "execution_count": 6,
     "metadata": {},
     "output_type": "execute_result"
    }
   ],
   "source": [
    "# behavioural_df.loc[behavioural_df['cue4']==1][45:60]\n",
    "behavioural_df"
   ]
  },
  {
   "cell_type": "code",
   "execution_count": 7,
   "id": "975b4030",
   "metadata": {},
   "outputs": [
    {
     "data": {
      "text/plain": [
       "(122.0, 118.0)"
      ]
     },
     "execution_count": 7,
     "metadata": {},
     "output_type": "execute_result"
    }
   ],
   "source": [
    "# Baseline:\n",
    "sum(behavioural_df['resultGo']), sum(behavioural_df['resultNoGo'])"
   ]
  },
  {
   "cell_type": "code",
   "execution_count": 8,
   "id": "d0c8f66c",
   "metadata": {},
   "outputs": [
    {
     "ename": "TypeError",
     "evalue": "can't multiply sequence by non-int of type 'float'",
     "output_type": "error",
     "traceback": [
      "\u001b[0;31m---------------------------------------------------------------------------\u001b[0m",
      "\u001b[0;31mTypeError\u001b[0m                                 Traceback (most recent call last)",
      "File \u001b[0;32m/opt/homebrew/lib/python3.9/site-packages/pandas/core/ops/array_ops.py:163\u001b[0m, in \u001b[0;36m_na_arithmetic_op\u001b[0;34m(left, right, op, is_cmp)\u001b[0m\n\u001b[1;32m    162\u001b[0m \u001b[38;5;28;01mtry\u001b[39;00m:\n\u001b[0;32m--> 163\u001b[0m     result \u001b[38;5;241m=\u001b[39m \u001b[43mfunc\u001b[49m\u001b[43m(\u001b[49m\u001b[43mleft\u001b[49m\u001b[43m,\u001b[49m\u001b[43m \u001b[49m\u001b[43mright\u001b[49m\u001b[43m)\u001b[49m\n\u001b[1;32m    164\u001b[0m \u001b[38;5;28;01mexcept\u001b[39;00m \u001b[38;5;167;01mTypeError\u001b[39;00m:\n",
      "File \u001b[0;32m/opt/homebrew/lib/python3.9/site-packages/pandas/core/computation/expressions.py:239\u001b[0m, in \u001b[0;36mevaluate\u001b[0;34m(op, a, b, use_numexpr)\u001b[0m\n\u001b[1;32m    237\u001b[0m     \u001b[38;5;28;01mif\u001b[39;00m use_numexpr:\n\u001b[1;32m    238\u001b[0m         \u001b[38;5;66;03m# error: \"None\" not callable\u001b[39;00m\n\u001b[0;32m--> 239\u001b[0m         \u001b[38;5;28;01mreturn\u001b[39;00m \u001b[43m_evaluate\u001b[49m\u001b[43m(\u001b[49m\u001b[43mop\u001b[49m\u001b[43m,\u001b[49m\u001b[43m \u001b[49m\u001b[43mop_str\u001b[49m\u001b[43m,\u001b[49m\u001b[43m \u001b[49m\u001b[43ma\u001b[49m\u001b[43m,\u001b[49m\u001b[43m \u001b[49m\u001b[43mb\u001b[49m\u001b[43m)\u001b[49m  \u001b[38;5;66;03m# type: ignore[misc]\u001b[39;00m\n\u001b[1;32m    240\u001b[0m \u001b[38;5;28;01mreturn\u001b[39;00m _evaluate_standard(op, op_str, a, b)\n",
      "File \u001b[0;32m/opt/homebrew/lib/python3.9/site-packages/pandas/core/computation/expressions.py:69\u001b[0m, in \u001b[0;36m_evaluate_standard\u001b[0;34m(op, op_str, a, b)\u001b[0m\n\u001b[1;32m     68\u001b[0m     _store_test_result(\u001b[38;5;28;01mFalse\u001b[39;00m)\n\u001b[0;32m---> 69\u001b[0m \u001b[38;5;28;01mreturn\u001b[39;00m \u001b[43mop\u001b[49m\u001b[43m(\u001b[49m\u001b[43ma\u001b[49m\u001b[43m,\u001b[49m\u001b[43m \u001b[49m\u001b[43mb\u001b[49m\u001b[43m)\u001b[49m\n",
      "\u001b[0;31mTypeError\u001b[0m: can't multiply sequence by non-int of type 'float'",
      "\nDuring handling of the above exception, another exception occurred:\n",
      "\u001b[0;31mTypeError\u001b[0m                                 Traceback (most recent call last)",
      "Input \u001b[0;32mIn [8]\u001b[0m, in \u001b[0;36m<cell line: 3>\u001b[0;34m()\u001b[0m\n\u001b[1;32m      1\u001b[0m mapping \u001b[38;5;241m=\u001b[39m {\u001b[38;5;124m'\u001b[39m\u001b[38;5;124mapproach\u001b[39m\u001b[38;5;124m'\u001b[39m: \u001b[38;5;241m1\u001b[39m, \u001b[38;5;124m'\u001b[39m\u001b[38;5;124mwithdrawal\u001b[39m\u001b[38;5;124m'\u001b[39m: \u001b[38;5;241m0\u001b[39m, \u001b[38;5;124m'\u001b[39m\u001b[38;5;124minactive\u001b[39m\u001b[38;5;124m'\u001b[39m: \u001b[38;5;241m0\u001b[39m}\n\u001b[1;32m      2\u001b[0m action_int \u001b[38;5;241m=\u001b[39m behavioural_df[\u001b[38;5;124m'\u001b[39m\u001b[38;5;124mAction\u001b[39m\u001b[38;5;124m'\u001b[39m]\u001b[38;5;241m.\u001b[39mreplace(mapping)\n\u001b[0;32m----> 3\u001b[0m punishments \u001b[38;5;241m=\u001b[39m \u001b[43maction_int\u001b[49m\u001b[38;5;241;43m*\u001b[39;49m\u001b[43mbehavioural_df\u001b[49m\u001b[43m[\u001b[49m\u001b[38;5;124;43m'\u001b[39;49m\u001b[38;5;124;43mresultGo\u001b[39;49m\u001b[38;5;124;43m'\u001b[39;49m\u001b[43m]\u001b[49m \u001b[38;5;241m+\u001b[39m (\u001b[38;5;241m1\u001b[39m\u001b[38;5;241m-\u001b[39maction_int)\u001b[38;5;241m*\u001b[39mbehavioural_df[\u001b[38;5;124m'\u001b[39m\u001b[38;5;124mresultNoGo\u001b[39m\u001b[38;5;124m'\u001b[39m]\n",
      "File \u001b[0;32m/opt/homebrew/lib/python3.9/site-packages/pandas/core/ops/common.py:70\u001b[0m, in \u001b[0;36m_unpack_zerodim_and_defer.<locals>.new_method\u001b[0;34m(self, other)\u001b[0m\n\u001b[1;32m     66\u001b[0m             \u001b[38;5;28;01mreturn\u001b[39;00m \u001b[38;5;28mNotImplemented\u001b[39m\n\u001b[1;32m     68\u001b[0m other \u001b[38;5;241m=\u001b[39m item_from_zerodim(other)\n\u001b[0;32m---> 70\u001b[0m \u001b[38;5;28;01mreturn\u001b[39;00m \u001b[43mmethod\u001b[49m\u001b[43m(\u001b[49m\u001b[38;5;28;43mself\u001b[39;49m\u001b[43m,\u001b[49m\u001b[43m \u001b[49m\u001b[43mother\u001b[49m\u001b[43m)\u001b[49m\n",
      "File \u001b[0;32m/opt/homebrew/lib/python3.9/site-packages/pandas/core/arraylike.py:116\u001b[0m, in \u001b[0;36mOpsMixin.__mul__\u001b[0;34m(self, other)\u001b[0m\n\u001b[1;32m    114\u001b[0m \u001b[38;5;129m@unpack_zerodim_and_defer\u001b[39m(\u001b[38;5;124m\"\u001b[39m\u001b[38;5;124m__mul__\u001b[39m\u001b[38;5;124m\"\u001b[39m)\n\u001b[1;32m    115\u001b[0m \u001b[38;5;28;01mdef\u001b[39;00m \u001b[38;5;21m__mul__\u001b[39m(\u001b[38;5;28mself\u001b[39m, other):\n\u001b[0;32m--> 116\u001b[0m     \u001b[38;5;28;01mreturn\u001b[39;00m \u001b[38;5;28;43mself\u001b[39;49m\u001b[38;5;241;43m.\u001b[39;49m\u001b[43m_arith_method\u001b[49m\u001b[43m(\u001b[49m\u001b[43mother\u001b[49m\u001b[43m,\u001b[49m\u001b[43m \u001b[49m\u001b[43moperator\u001b[49m\u001b[38;5;241;43m.\u001b[39;49m\u001b[43mmul\u001b[49m\u001b[43m)\u001b[49m\n",
      "File \u001b[0;32m/opt/homebrew/lib/python3.9/site-packages/pandas/core/series.py:5639\u001b[0m, in \u001b[0;36mSeries._arith_method\u001b[0;34m(self, other, op)\u001b[0m\n\u001b[1;32m   5637\u001b[0m \u001b[38;5;28;01mdef\u001b[39;00m \u001b[38;5;21m_arith_method\u001b[39m(\u001b[38;5;28mself\u001b[39m, other, op):\n\u001b[1;32m   5638\u001b[0m     \u001b[38;5;28mself\u001b[39m, other \u001b[38;5;241m=\u001b[39m ops\u001b[38;5;241m.\u001b[39malign_method_SERIES(\u001b[38;5;28mself\u001b[39m, other)\n\u001b[0;32m-> 5639\u001b[0m     \u001b[38;5;28;01mreturn\u001b[39;00m \u001b[43mbase\u001b[49m\u001b[38;5;241;43m.\u001b[39;49m\u001b[43mIndexOpsMixin\u001b[49m\u001b[38;5;241;43m.\u001b[39;49m\u001b[43m_arith_method\u001b[49m\u001b[43m(\u001b[49m\u001b[38;5;28;43mself\u001b[39;49m\u001b[43m,\u001b[49m\u001b[43m \u001b[49m\u001b[43mother\u001b[49m\u001b[43m,\u001b[49m\u001b[43m \u001b[49m\u001b[43mop\u001b[49m\u001b[43m)\u001b[49m\n",
      "File \u001b[0;32m/opt/homebrew/lib/python3.9/site-packages/pandas/core/base.py:1295\u001b[0m, in \u001b[0;36mIndexOpsMixin._arith_method\u001b[0;34m(self, other, op)\u001b[0m\n\u001b[1;32m   1292\u001b[0m rvalues \u001b[38;5;241m=\u001b[39m ensure_wrapped_if_datetimelike(rvalues)\n\u001b[1;32m   1294\u001b[0m \u001b[38;5;28;01mwith\u001b[39;00m np\u001b[38;5;241m.\u001b[39merrstate(\u001b[38;5;28mall\u001b[39m\u001b[38;5;241m=\u001b[39m\u001b[38;5;124m\"\u001b[39m\u001b[38;5;124mignore\u001b[39m\u001b[38;5;124m\"\u001b[39m):\n\u001b[0;32m-> 1295\u001b[0m     result \u001b[38;5;241m=\u001b[39m \u001b[43mops\u001b[49m\u001b[38;5;241;43m.\u001b[39;49m\u001b[43marithmetic_op\u001b[49m\u001b[43m(\u001b[49m\u001b[43mlvalues\u001b[49m\u001b[43m,\u001b[49m\u001b[43m \u001b[49m\u001b[43mrvalues\u001b[49m\u001b[43m,\u001b[49m\u001b[43m \u001b[49m\u001b[43mop\u001b[49m\u001b[43m)\u001b[49m\n\u001b[1;32m   1297\u001b[0m \u001b[38;5;28;01mreturn\u001b[39;00m \u001b[38;5;28mself\u001b[39m\u001b[38;5;241m.\u001b[39m_construct_result(result, name\u001b[38;5;241m=\u001b[39mres_name)\n",
      "File \u001b[0;32m/opt/homebrew/lib/python3.9/site-packages/pandas/core/ops/array_ops.py:222\u001b[0m, in \u001b[0;36marithmetic_op\u001b[0;34m(left, right, op)\u001b[0m\n\u001b[1;32m    217\u001b[0m \u001b[38;5;28;01melse\u001b[39;00m:\n\u001b[1;32m    218\u001b[0m     \u001b[38;5;66;03m# TODO we should handle EAs consistently and move this check before the if/else\u001b[39;00m\n\u001b[1;32m    219\u001b[0m     \u001b[38;5;66;03m# (https://github.com/pandas-dev/pandas/issues/41165)\u001b[39;00m\n\u001b[1;32m    220\u001b[0m     _bool_arith_check(op, left, right)\n\u001b[0;32m--> 222\u001b[0m     res_values \u001b[38;5;241m=\u001b[39m \u001b[43m_na_arithmetic_op\u001b[49m\u001b[43m(\u001b[49m\u001b[43mleft\u001b[49m\u001b[43m,\u001b[49m\u001b[43m \u001b[49m\u001b[43mright\u001b[49m\u001b[43m,\u001b[49m\u001b[43m \u001b[49m\u001b[43mop\u001b[49m\u001b[43m)\u001b[49m\n\u001b[1;32m    224\u001b[0m \u001b[38;5;28;01mreturn\u001b[39;00m res_values\n",
      "File \u001b[0;32m/opt/homebrew/lib/python3.9/site-packages/pandas/core/ops/array_ops.py:170\u001b[0m, in \u001b[0;36m_na_arithmetic_op\u001b[0;34m(left, right, op, is_cmp)\u001b[0m\n\u001b[1;32m    164\u001b[0m \u001b[38;5;28;01mexcept\u001b[39;00m \u001b[38;5;167;01mTypeError\u001b[39;00m:\n\u001b[1;32m    165\u001b[0m     \u001b[38;5;28;01mif\u001b[39;00m \u001b[38;5;129;01mnot\u001b[39;00m is_cmp \u001b[38;5;129;01mand\u001b[39;00m (is_object_dtype(left\u001b[38;5;241m.\u001b[39mdtype) \u001b[38;5;129;01mor\u001b[39;00m is_object_dtype(right)):\n\u001b[1;32m    166\u001b[0m         \u001b[38;5;66;03m# For object dtype, fallback to a masked operation (only operating\u001b[39;00m\n\u001b[1;32m    167\u001b[0m         \u001b[38;5;66;03m#  on the non-missing values)\u001b[39;00m\n\u001b[1;32m    168\u001b[0m         \u001b[38;5;66;03m# Don't do this for comparisons, as that will handle complex numbers\u001b[39;00m\n\u001b[1;32m    169\u001b[0m         \u001b[38;5;66;03m#  incorrectly, see GH#32047\u001b[39;00m\n\u001b[0;32m--> 170\u001b[0m         result \u001b[38;5;241m=\u001b[39m \u001b[43m_masked_arith_op\u001b[49m\u001b[43m(\u001b[49m\u001b[43mleft\u001b[49m\u001b[43m,\u001b[49m\u001b[43m \u001b[49m\u001b[43mright\u001b[49m\u001b[43m,\u001b[49m\u001b[43m \u001b[49m\u001b[43mop\u001b[49m\u001b[43m)\u001b[49m\n\u001b[1;32m    171\u001b[0m     \u001b[38;5;28;01melse\u001b[39;00m:\n\u001b[1;32m    172\u001b[0m         \u001b[38;5;28;01mraise\u001b[39;00m\n",
      "File \u001b[0;32m/opt/homebrew/lib/python3.9/site-packages/pandas/core/ops/array_ops.py:108\u001b[0m, in \u001b[0;36m_masked_arith_op\u001b[0;34m(x, y, op)\u001b[0m\n\u001b[1;32m    106\u001b[0m     \u001b[38;5;66;03m# See GH#5284, GH#5035, GH#19448 for historical reference\u001b[39;00m\n\u001b[1;32m    107\u001b[0m     \u001b[38;5;28;01mif\u001b[39;00m mask\u001b[38;5;241m.\u001b[39many():\n\u001b[0;32m--> 108\u001b[0m         result[mask] \u001b[38;5;241m=\u001b[39m \u001b[43mop\u001b[49m\u001b[43m(\u001b[49m\u001b[43mxrav\u001b[49m\u001b[43m[\u001b[49m\u001b[43mmask\u001b[49m\u001b[43m]\u001b[49m\u001b[43m,\u001b[49m\u001b[43m \u001b[49m\u001b[43myrav\u001b[49m\u001b[43m[\u001b[49m\u001b[43mmask\u001b[49m\u001b[43m]\u001b[49m\u001b[43m)\u001b[49m\n\u001b[1;32m    110\u001b[0m \u001b[38;5;28;01melse\u001b[39;00m:\n\u001b[1;32m    111\u001b[0m     \u001b[38;5;28;01mif\u001b[39;00m \u001b[38;5;129;01mnot\u001b[39;00m is_scalar(y):\n",
      "\u001b[0;31mTypeError\u001b[0m: can't multiply sequence by non-int of type 'float'"
     ]
    }
   ],
   "source": [
    "mapping = {'approach': 1, 'withdrawal': 0, 'inactive': 0}\n",
    "action_int = behavioural_df['Action'].replace(mapping)\n",
    "punishments = action_int*behavioural_df['resultGo'] + (1-action_int)*behavioural_df['resultNoGo']"
   ]
  },
  {
   "cell_type": "code",
   "execution_count": 9,
   "id": "2a0d36fd",
   "metadata": {},
   "outputs": [
    {
     "ename": "NameError",
     "evalue": "name 'punishments' is not defined",
     "output_type": "error",
     "traceback": [
      "\u001b[0;31m---------------------------------------------------------------------------\u001b[0m",
      "\u001b[0;31mNameError\u001b[0m                                 Traceback (most recent call last)",
      "Input \u001b[0;32mIn [9]\u001b[0m, in \u001b[0;36m<cell line: 1>\u001b[0;34m()\u001b[0m\n\u001b[0;32m----> 1\u001b[0m \u001b[38;5;28msum\u001b[39m(\u001b[43mpunishments\u001b[49m)\n",
      "\u001b[0;31mNameError\u001b[0m: name 'punishments' is not defined"
     ]
    }
   ],
   "source": [
    "sum(punishments)"
   ]
  },
  {
   "cell_type": "code",
   "execution_count": null,
   "id": "7c2eef0a",
   "metadata": {},
   "outputs": [],
   "source": [
    "behavioural_Q1df = behavioural_df[:60]\n",
    "behavioural_Q2df = behavioural_df[60:120]\n",
    "behavioural_Q3df = behavioural_df[120:180]\n",
    "behavioural_Q4df = behavioural_df[180:]\n",
    "\n",
    "behavioural_Q1Q2df = behavioural_df[:120]\n",
    "behavioural_Q3Q4df = behavioural_df[120:]"
   ]
  },
  {
   "cell_type": "markdown",
   "id": "e621c7a5",
   "metadata": {},
   "source": [
    "# Quarter-wise aggregates"
   ]
  },
  {
   "cell_type": "code",
   "execution_count": null,
   "id": "a4d2a2f5",
   "metadata": {},
   "outputs": [],
   "source": [
    "np.sum(behavioural_Q1df['Action'] == 'approach'), np.sum(behavioural_Q1df['Action'] == 'withdrawal')"
   ]
  },
  {
   "cell_type": "code",
   "execution_count": null,
   "id": "b9a4e9e5",
   "metadata": {},
   "outputs": [],
   "source": [
    "np.sum(behavioural_Q2df['Action'] == 'approach'), np.sum(behavioural_Q2df['Action'] == 'withdrawal')"
   ]
  },
  {
   "cell_type": "code",
   "execution_count": null,
   "id": "149a6573",
   "metadata": {},
   "outputs": [],
   "source": [
    "np.sum(behavioural_Q3df['Action'] == 'approach'), np.sum(behavioural_Q3df['Action'] == 'withdrawal')"
   ]
  },
  {
   "cell_type": "code",
   "execution_count": null,
   "id": "64a8fb0c",
   "metadata": {},
   "outputs": [],
   "source": [
    "np.sum(behavioural_Q4df['Action'] == 'approach'), np.sum(behavioural_Q4df['Action'] == 'withdrawal')"
   ]
  },
  {
   "cell_type": "code",
   "execution_count": null,
   "id": "1d907b30",
   "metadata": {},
   "outputs": [],
   "source": [
    "np.mean(behavioural_Q1df['ReactionTime']), np.std(behavioural_Q1df['ReactionTime'])"
   ]
  },
  {
   "cell_type": "code",
   "execution_count": null,
   "id": "e4c1a25f",
   "metadata": {},
   "outputs": [],
   "source": [
    "np.mean(behavioural_Q2df['ReactionTime']), np.std(behavioural_Q2df['ReactionTime'])"
   ]
  },
  {
   "cell_type": "code",
   "execution_count": null,
   "id": "9a6991d0",
   "metadata": {},
   "outputs": [],
   "source": [
    "np.mean(behavioural_Q3df['ReactionTime']), np.std(behavioural_Q3df['ReactionTime'])"
   ]
  },
  {
   "cell_type": "code",
   "execution_count": null,
   "id": "e6cb10c1",
   "metadata": {},
   "outputs": [],
   "source": [
    "np.mean(behavioural_Q4df['ReactionTime']), np.std(behavioural_Q4df['ReactionTime'])"
   ]
  },
  {
   "cell_type": "markdown",
   "id": "926906d3",
   "metadata": {},
   "source": [
    "# Choice Dot Plots"
   ]
  },
  {
   "cell_type": "code",
   "execution_count": null,
   "id": "5d2fd913",
   "metadata": {},
   "outputs": [],
   "source": [
    "mapping = {'approach': 1, 'withdrawal': 0, 'inactive': 0}\n",
    "\n",
    "cue1_choices = np.array(behavioural_df.loc[behavioural_df['cue1']==1]['Action'].replace(mapping))\n",
    "cue2_choices = np.array(behavioural_df.loc[behavioural_df['cue2']==1]['Action'].replace(mapping))\n",
    "cue3_choices = np.array(behavioural_df.loc[behavioural_df['cue3']==1]['Action'].replace(mapping))\n",
    "cue4_choices = np.array(behavioural_df.loc[behavioural_df['cue4']==1]['Action'].replace(mapping))"
   ]
  },
  {
   "cell_type": "code",
   "execution_count": null,
   "id": "ee8c5e56",
   "metadata": {},
   "outputs": [],
   "source": [
    "f, (ax1, ax2, ax3, ax4) = plt.subplots(1,4, figsize=(16,4))\n",
    "ax1.plot(cue1_choices, '.')\n",
    "true_value = np.ones(60)\n",
    "ax1.plot(true_value, 'r')\n",
    "ax1.set_ylim([-0.1, 1.1])\n",
    "\n",
    "ax2.plot(cue2_choices, '.')\n",
    "true_value = np.zeros(60)\n",
    "ax2.plot(true_value, 'r')\n",
    "ax2.set_ylim([-0.1, 1.1])\n",
    "\n",
    "ax3.plot(cue3_choices, '.')\n",
    "true_value = np.concatenate([0.5*np.ones(30), np.ones(30)])\n",
    "ax3.plot(true_value, 'r')\n",
    "ax3.set_ylim([-0.1, 1.1])\n",
    "\n",
    "ax4.plot(cue4_choices, '.')\n",
    "true_value = np.concatenate([0.5*np.ones(30), np.zeros(30)])\n",
    "ax4.plot(true_value, 'r')\n",
    "ax4.set_ylim([-0.1, 1.1])\n",
    "\n",
    "ax1.title.set_text('Cue1 (Approach to avoid ~A2A)')\n",
    "ax2.title.set_text('Cue2 (Withdraw to avoid ~W2A)')\n",
    "ax3.title.set_text('Cue3 (Uncontrollable first, then A2A)')\n",
    "ax4.title.set_text('Cue4 (Uncontrollable first, then W2A)')\n",
    "plt.show()"
   ]
  },
  {
   "cell_type": "markdown",
   "id": "74fca7b0",
   "metadata": {},
   "source": [
    "# Withdrawal Bias estimation from choices"
   ]
  },
  {
   "cell_type": "code",
   "execution_count": null,
   "id": "86068ae1",
   "metadata": {},
   "outputs": [],
   "source": [
    "def get_withdrawal_bias_cue12(subset_df):\n",
    "    window_len = len(subset_df)\n",
    "    cue1_choices = np.array(subset_df.loc[subset_df['cue1']==1]['Action'].replace(mapping))\n",
    "    cue2_choices = np.array(subset_df.loc[subset_df['cue2']==1]['Action'].replace(mapping))\n",
    "    \n",
    "    # Approach in cue 1 is accurate\n",
    "    # Withdrawal in cue 2 is accurate\n",
    "    \n",
    "    # Withdrawal bias is correct actions in cue2 minus correct actions in cue1\n",
    "    \n",
    "    # print(\"Withdrawal in Cue 2:\", (sum(cue2_choices==0)))\n",
    "    # print(\"Approach in Cue 1:\", sum(cue1_choices))\n",
    "    \n",
    "    withdrawal_bias_cue = (sum(cue2_choices==0) - sum(cue1_choices))/window_len\n",
    "    return withdrawal_bias_cue\n",
    "\n",
    "def get_withdrawal_bias_cue34(subset_df):\n",
    "    window_len = len(subset_df)\n",
    "    cue3_choices = np.array(subset_df.loc[subset_df['cue3']==1]['Action'].replace(mapping))\n",
    "    cue4_choices = np.array(subset_df.loc[subset_df['cue4']==1]['Action'].replace(mapping))\n",
    "    \n",
    "    # Approach in cue 3 is accurate in second half\n",
    "    # Withdrawal in cue 4 is accurate in second half\n",
    "    \n",
    "    # Withdrawal bias in first half is withdrawals more than number of approaches for both cue3 and cue4\n",
    "    # Withdrawal bias in second half is correct actions in cue4 minus correct actions in cue3\n",
    "    \n",
    "    withdrawal_bias_uncontrollablecue3 = (sum(cue3_choices==0) - sum(cue3_choices))/window_len\n",
    "    withdrawal_bias_uncontrollablecue4 = (sum(cue4_choices==0) - sum(cue4_choices))/window_len\n",
    "    withdrawal_bias_controllable = ((sum(cue4_choices==0)) - sum(cue3_choices))/window_len\n",
    "    return withdrawal_bias_uncontrollablecue3, withdrawal_bias_uncontrollablecue4, withdrawal_bias_controllable"
   ]
  },
  {
   "cell_type": "code",
   "execution_count": null,
   "id": "7aee1e9a",
   "metadata": {},
   "outputs": [],
   "source": [
    "get_withdrawal_bias_cue12(behavioural_Q1Q2df), get_withdrawal_bias_cue12(behavioural_Q3Q4df)"
   ]
  },
  {
   "cell_type": "code",
   "execution_count": null,
   "id": "ab743aa9",
   "metadata": {},
   "outputs": [],
   "source": [
    "get_withdrawal_bias_cue12(behavioural_Q1df), get_withdrawal_bias_cue12(behavioural_Q2df), \\\n",
    "get_withdrawal_bias_cue12(behavioural_Q3df), get_withdrawal_bias_cue12(behavioural_Q4df)"
   ]
  },
  {
   "cell_type": "code",
   "execution_count": null,
   "id": "aed11fec",
   "metadata": {},
   "outputs": [],
   "source": [
    "get_withdrawal_bias_cue34(behavioural_Q1Q2df), get_withdrawal_bias_cue34(behavioural_Q3Q4df)\n",
    "# 0.125), (-0.1, 0.15 are meaningless, rest is good"
   ]
  },
  {
   "cell_type": "markdown",
   "id": "2ef11257",
   "metadata": {},
   "source": [
    "# Reaction Times"
   ]
  },
  {
   "cell_type": "code",
   "execution_count": null,
   "id": "cdf1bdbd",
   "metadata": {},
   "outputs": [],
   "source": [
    "def get_all_reactiontimes(subset_df):\n",
    "    window_len = len(subset_df)\n",
    "    cue1_choices_reaction_times = subset_df.loc[subset_df['cue1']==1][['Action', 'ReactionTime']].replace(mapping)\n",
    "    cue2_choices_reaction_times = subset_df.loc[subset_df['cue2']==1][['Action', 'ReactionTime']].replace(mapping)\n",
    "    cue3_choices_reaction_times = subset_df.loc[subset_df['cue3']==1][['Action', 'ReactionTime']].replace(mapping)\n",
    "    cue4_choices_reaction_times = subset_df.loc[subset_df['cue4']==1][['Action', 'ReactionTime']].replace(mapping)\n",
    "    \n",
    "    print(\"%.2f %.2f %.2f %.2f\" % (np.mean(cue1_choices_reaction_times['ReactionTime']), np.mean(cue2_choices_reaction_times['ReactionTime']),\\\n",
    "         np.mean(cue3_choices_reaction_times['ReactionTime']), np.mean(cue4_choices_reaction_times['ReactionTime'])))"
   ]
  },
  {
   "cell_type": "code",
   "execution_count": null,
   "id": "5659c122",
   "metadata": {},
   "outputs": [],
   "source": [
    "print(\"cue1 cue2 cue3 cue4\")\n",
    "get_all_reactiontimes(behavioural_Q1df)\n",
    "get_all_reactiontimes(behavioural_Q2df)\n",
    "get_all_reactiontimes(behavioural_Q3df)\n",
    "get_all_reactiontimes(behavioural_Q4df)"
   ]
  },
  {
   "cell_type": "code",
   "execution_count": null,
   "id": "a6f2cf47",
   "metadata": {},
   "outputs": [],
   "source": [
    "def get_all_approach_withdrawal_times(subset_df):\n",
    "    window_len = len(subset_df)\n",
    "    subset_df = subset_df.replace(mapping)\n",
    "    approach_reaction_times = subset_df.loc[subset_df['Action']==1]['ReactionTime']\n",
    "    withdrawal_choices_reaction_times = subset_df.loc[subset_df['Action']==0]['ReactionTime']\n",
    "    \n",
    "    print(\"%.2f %.2f\" % (np.mean(approach_reaction_times), np.mean(withdrawal_choices_reaction_times)))\n",
    "   "
   ]
  },
  {
   "cell_type": "code",
   "execution_count": null,
   "id": "90ebfac9",
   "metadata": {},
   "outputs": [],
   "source": [
    "print(\"Appr Withd\")\n",
    "get_all_approach_withdrawal_times(behavioural_Q1df)\n",
    "get_all_approach_withdrawal_times(behavioural_Q2df)\n",
    "get_all_approach_withdrawal_times(behavioural_Q3df)\n",
    "get_all_approach_withdrawal_times(behavioural_Q4df)"
   ]
  },
  {
   "cell_type": "code",
   "execution_count": null,
   "id": "f77adc9b",
   "metadata": {},
   "outputs": [],
   "source": [
    "def get_cuewise_approach_reactiontimes(subset_df):\n",
    "    window_len = len(subset_df)\n",
    "    cue1_choices_reaction_times = subset_df.loc[subset_df['cue1']==1][['Action', 'ReactionTime']].replace(mapping)\n",
    "    cue2_choices_reaction_times = subset_df.loc[subset_df['cue2']==1][['Action', 'ReactionTime']].replace(mapping)\n",
    "    cue3_choices_reaction_times = subset_df.loc[subset_df['cue3']==1][['Action', 'ReactionTime']].replace(mapping)\n",
    "    cue4_choices_reaction_times = subset_df.loc[subset_df['cue4']==1][['Action', 'ReactionTime']].replace(mapping)\n",
    "    \n",
    "    cue1_approach_times = cue1_choices_reaction_times.loc[cue1_choices_reaction_times['Action']==1]['ReactionTime']\n",
    "    cue2_approach_times = cue2_choices_reaction_times.loc[cue2_choices_reaction_times['Action']==1]['ReactionTime']\n",
    "    cue3_approach_times = cue3_choices_reaction_times.loc[cue3_choices_reaction_times['Action']==1]['ReactionTime']\n",
    "    cue4_approach_times = cue4_choices_reaction_times.loc[cue4_choices_reaction_times['Action']==1]['ReactionTime']\n",
    "    \n",
    "    print(\"%.2f %.2f %.2f %.2f\" % (np.mean(cue1_approach_times), np.mean(cue2_approach_times),\\\n",
    "         np.mean(cue3_approach_times), np.mean(cue4_approach_times)))\n",
    "\n",
    "\n",
    "def get_cuewise_withdrawal_reactiontimes(subset_df):\n",
    "    window_len = len(subset_df)\n",
    "    cue1_choices_reaction_times = subset_df.loc[subset_df['cue1']==1][['Action', 'ReactionTime']].replace(mapping)\n",
    "    cue2_choices_reaction_times = subset_df.loc[subset_df['cue2']==1][['Action', 'ReactionTime']].replace(mapping)\n",
    "    cue3_choices_reaction_times = subset_df.loc[subset_df['cue3']==1][['Action', 'ReactionTime']].replace(mapping)\n",
    "    cue4_choices_reaction_times = subset_df.loc[subset_df['cue4']==1][['Action', 'ReactionTime']].replace(mapping)\n",
    "    \n",
    "    cue1_withdrawal_times = cue1_choices_reaction_times.loc[cue1_choices_reaction_times['Action']==0]['ReactionTime']\n",
    "    cue2_withdrawal_times = cue2_choices_reaction_times.loc[cue2_choices_reaction_times['Action']==0]['ReactionTime']\n",
    "    cue3_withdrawal_times = cue3_choices_reaction_times.loc[cue3_choices_reaction_times['Action']==0]['ReactionTime']\n",
    "    cue4_withdrawal_times = cue4_choices_reaction_times.loc[cue4_choices_reaction_times['Action']==0]['ReactionTime']\n",
    "    \n",
    "    print(\"%.2f %.2f %.2f %.2f\" % (np.mean(cue1_withdrawal_times), np.mean(cue2_withdrawal_times),\\\n",
    "         np.mean(cue3_withdrawal_times), np.mean(cue4_withdrawal_times)))"
   ]
  },
  {
   "cell_type": "code",
   "execution_count": null,
   "id": "c84f358d",
   "metadata": {},
   "outputs": [],
   "source": [
    "print(\"Approach times\")\n",
    "print(\"cue1 cue2 cue3 cue4\")\n",
    "get_cuewise_approach_reactiontimes(behavioural_Q1df)\n",
    "get_cuewise_approach_reactiontimes(behavioural_Q2df)\n",
    "get_cuewise_approach_reactiontimes(behavioural_Q3df)\n",
    "get_cuewise_approach_reactiontimes(behavioural_Q4df)\n",
    "\n",
    "# see cue 1 approach time increasing in Q2"
   ]
  },
  {
   "cell_type": "code",
   "execution_count": null,
   "id": "016fdd54",
   "metadata": {},
   "outputs": [],
   "source": [
    "print(\"Withdrawal times\")\n",
    "print(\"cue1 cue2 cue3 cue4\")\n",
    "get_cuewise_withdrawal_reactiontimes(behavioural_Q1df)\n",
    "get_cuewise_withdrawal_reactiontimes(behavioural_Q2df)\n",
    "get_cuewise_withdrawal_reactiontimes(behavioural_Q3df)\n",
    "get_cuewise_withdrawal_reactiontimes(behavioural_Q4df)\n",
    "# all withdrawal times reduce "
   ]
  },
  {
   "cell_type": "markdown",
   "id": "51708e7f",
   "metadata": {},
   "source": [
    "# Logged data"
   ]
  },
  {
   "cell_type": "code",
   "execution_count": null,
   "id": "494327bd",
   "metadata": {},
   "outputs": [],
   "source": [
    "from datetime import datetime, date"
   ]
  },
  {
   "cell_type": "code",
   "execution_count": null,
   "id": "eca07768",
   "metadata": {},
   "outputs": [],
   "source": [
    "ls FishTaskPilotData/Data/subj01"
   ]
  },
  {
   "cell_type": "code",
   "execution_count": null,
   "id": "00003a94",
   "metadata": {},
   "outputs": [],
   "source": [
    "js1 = pd.read_json('FishTaskPilotData/Data/subj01/test__Device_Data_LiveAmp_LSL_Compatible_Univ__.json')\n",
    "js2 = pd.read_json('FishTaskPilotData/Data/subj01/test__Device_Data_Unity_C_Sharp_Client_VR__.json')"
   ]
  },
  {
   "cell_type": "code",
   "execution_count": null,
   "id": "49db5509",
   "metadata": {},
   "outputs": [],
   "source": [
    "js1"
   ]
  },
  {
   "cell_type": "code",
   "execution_count": null,
   "id": "728ef98f",
   "metadata": {},
   "outputs": [],
   "source": [
    "js2['right_elbow_position'][150000]"
   ]
  },
  {
   "cell_type": "code",
   "execution_count": null,
   "id": "f49ff7cb",
   "metadata": {},
   "outputs": [],
   "source": [
    "js2['right_shoulder_position']"
   ]
  },
  {
   "cell_type": "code",
   "execution_count": null,
   "id": "f973fcee",
   "metadata": {},
   "outputs": [],
   "source": [
    "js2['left_shoulder_position']"
   ]
  },
  {
   "cell_type": "code",
   "execution_count": null,
   "id": "040d36c4",
   "metadata": {},
   "outputs": [],
   "source": [
    "js2.columns"
   ]
  },
  {
   "cell_type": "code",
   "execution_count": null,
   "id": "42bb1a91",
   "metadata": {},
   "outputs": [],
   "source": [
    "js1['timestamp'][26250:26300]\n",
    "# 2022-08-07 12:55:11.527"
   ]
  },
  {
   "cell_type": "code",
   "execution_count": null,
   "id": "bcd730b4",
   "metadata": {},
   "outputs": [],
   "source": [
    "len(js1['Ch1'][2])"
   ]
  },
  {
   "cell_type": "code",
   "execution_count": null,
   "id": "2dbff824",
   "metadata": {},
   "outputs": [],
   "source": [
    "js2['timestamp']"
   ]
  },
  {
   "cell_type": "code",
   "execution_count": null,
   "id": "96288e20",
   "metadata": {},
   "outputs": [],
   "source": [
    "trial = 1\n",
    "for ind in range(len(js2)):\n",
    "    if js2['trialnum'].iloc[ind]==trial:\n",
    "        print(ind)\n",
    "        start_ind = ind\n",
    "        break\n",
    "        \n",
    "for ind in range(len(js2)):\n",
    "    if js2['trialnum'].iloc[ind]==trial+1:\n",
    "        print(ind)\n",
    "        end_ind = ind\n",
    "        break\n"
   ]
  },
  {
   "cell_type": "code",
   "execution_count": null,
   "id": "7d0a3a3f",
   "metadata": {},
   "outputs": [],
   "source": [
    "js2[start_ind:end_ind]['timestamp']"
   ]
  },
  {
   "cell_type": "code",
   "execution_count": null,
   "id": "a0e875b4",
   "metadata": {},
   "outputs": [],
   "source": [
    "start_timestamp = js2[start_ind:end_ind]['timestamp'][start_ind]\n",
    "end_timestamp = js2[start_ind:end_ind]['timestamp'][end_ind-1]"
   ]
  },
  {
   "cell_type": "code",
   "execution_count": null,
   "id": "3ba4261d",
   "metadata": {},
   "outputs": [],
   "source": [
    "start_timestamp, end_timestamp"
   ]
  },
  {
   "cell_type": "code",
   "execution_count": null,
   "id": "fce01e31",
   "metadata": {},
   "outputs": [],
   "source": [
    "datetime.combine(end_timestamp.date(), end_timestamp.time()) - datetime.combine(start_timestamp.date(), start_timestamp.time())"
   ]
  },
  {
   "cell_type": "code",
   "execution_count": null,
   "id": "e4798cea",
   "metadata": {},
   "outputs": [],
   "source": [
    "end_timestamp.time() > start_timestamp.time()"
   ]
  },
  {
   "cell_type": "code",
   "execution_count": null,
   "id": "15cb4113",
   "metadata": {},
   "outputs": [],
   "source": [
    "for i in range(len(js1)):\n",
    "    if start_timestamp >= js1['timestamp'][i] and start_timestamp < js1['timestamp'][i+1]:\n",
    "        print(i, js1['timestamp'][i] , js1['timestamp'][i+1])"
   ]
  },
  {
   "cell_type": "code",
   "execution_count": null,
   "id": "f85e0399",
   "metadata": {},
   "outputs": [],
   "source": [
    "for i in range(len(js1)):\n",
    "    if end_timestamp >= js1['timestamp'][i] and end_timestamp < js1['timestamp'][i+1]:\n",
    "        print(i, js1['timestamp'][i] , js1['timestamp'][i+1])"
   ]
  },
  {
   "cell_type": "code",
   "execution_count": null,
   "id": "514aa632",
   "metadata": {},
   "outputs": [],
   "source": [
    "flattened_channel = np.array(js1['Ch1'].explode())\n",
    "len_flattened = len(flattened_channel)\n",
    "\n",
    "flattened_channels = np.zeros((40, len_flattened))\n",
    "for i in range(40):\n",
    "    flattened_channels[i] = np.array(js1['Ch'+str(i+1)].explode())"
   ]
  },
  {
   "cell_type": "code",
   "execution_count": null,
   "id": "74c971ea",
   "metadata": {},
   "outputs": [],
   "source": [
    "shock_trigger_indices = np.where(flattened_channels[39]==1)[0]"
   ]
  },
  {
   "cell_type": "code",
   "execution_count": null,
   "id": "adc64498",
   "metadata": {},
   "outputs": [],
   "source": [
    "channel=36 #use idx as per in montage\n",
    "num_indices = len(shock_trigger_indices)\n",
    "trial_wise_channel = np.zeros((num_indices, 1000))\n",
    "i=0\n",
    "for idx in shock_trigger_indices:\n",
    "    trial_wise_channel[i] = flattened_channels[channel-1][idx-500:idx+500] - np.mean(flattened_channels[channel-1][idx-500:idx+500])\n",
    "    i+=1"
   ]
  },
  {
   "cell_type": "code",
   "execution_count": null,
   "id": "a03a36d8",
   "metadata": {},
   "outputs": [],
   "source": [
    "plt.plot(np.arange(-1, 1, 0.002), np.mean(trial_wise_channel, axis=0))\n",
    "# plt.axvline(x=0.2, color='black')"
   ]
  },
  {
   "cell_type": "code",
   "execution_count": null,
   "id": "bee51cc6",
   "metadata": {},
   "outputs": [],
   "source": []
  },
  {
   "cell_type": "code",
   "execution_count": null,
   "id": "cb24acf3",
   "metadata": {},
   "outputs": [],
   "source": []
  },
  {
   "cell_type": "markdown",
   "id": "da6ab26b",
   "metadata": {},
   "source": [
    "# Motion analysis"
   ]
  },
  {
   "cell_type": "code",
   "execution_count": null,
   "id": "8a9d6792",
   "metadata": {},
   "outputs": [],
   "source": [
    "main_js2 = js2[js2['currentscene']=='mainexperiment']"
   ]
  },
  {
   "cell_type": "code",
   "execution_count": null,
   "id": "a4cb81dd",
   "metadata": {},
   "outputs": [],
   "source": [
    "trial = 1\n",
    "trial_js2 = main_js2[main_js2['trialnum']==trial]"
   ]
  },
  {
   "cell_type": "code",
   "execution_count": null,
   "id": "289899ed",
   "metadata": {},
   "outputs": [],
   "source": [
    "trial_js2_exitLimbo = trial_js2[trial_js2['trialphase'] == 'exitLimbo']\n",
    "hand_pos_z_arr = np.zeros(len(trial_js2_exitLimbo))\n",
    "for i in range(len(trial_js2_exitLimbo)):\n",
    "    hand_pos = trial_js2_exitLimbo['right_hand_position'].iloc[i]\n",
    "    hand_pos_z = hand_pos[2]\n",
    "    hand_pos_z_arr[i] = hand_pos_z\n",
    "    \n",
    "print(np.mean(hand_pos_z_arr), np.std(hand_pos_z_arr))"
   ]
  },
  {
   "cell_type": "code",
   "execution_count": null,
   "id": "74e42fca",
   "metadata": {},
   "outputs": [],
   "source": [
    "hand_pos_z_means = np.zeros(220)\n",
    "for trial in range(220):\n",
    "    trial_js2 = main_js2[main_js2['trialnum']==trial]\n",
    "    trial_js2_exitLimbo = trial_js2[trial_js2['trialphase'] == 'exitLimbo']\n",
    "    hand_pos_z_arr = np.zeros(len(trial_js2_exitLimbo))\n",
    "    for i in range(len(trial_js2_exitLimbo)):\n",
    "        hand_pos = trial_js2_exitLimbo['right_hand_position'].iloc[i]\n",
    "        hand_pos_z = hand_pos[2]\n",
    "        hand_pos_z_arr[i] = hand_pos_z\n",
    "\n",
    "    hand_pos_z_means[trial] = np.mean(hand_pos_z_arr)"
   ]
  },
  {
   "cell_type": "code",
   "execution_count": null,
   "id": "f0d64b18",
   "metadata": {},
   "outputs": [],
   "source": [
    "plt.plot(hand_pos_z_means)"
   ]
  },
  {
   "cell_type": "code",
   "execution_count": null,
   "id": "995c3b73",
   "metadata": {},
   "outputs": [],
   "source": [
    "np.mean(hand_pos_z_means[1:60]), np.mean(hand_pos_z_means[60:120]), np.mean(hand_pos_z_means[120:180]), np.mean(hand_pos_z_means[180:])"
   ]
  },
  {
   "cell_type": "code",
   "execution_count": null,
   "id": "0d402222",
   "metadata": {},
   "outputs": [],
   "source": [
    "# 13.623 is the z-pos of the inner bubble"
   ]
  },
  {
   "cell_type": "code",
   "execution_count": null,
   "id": "e53d3a5b",
   "metadata": {},
   "outputs": [],
   "source": []
  },
  {
   "cell_type": "code",
   "execution_count": null,
   "id": "e4e5a613",
   "metadata": {},
   "outputs": [],
   "source": []
  },
  {
   "cell_type": "markdown",
   "id": "d542db57",
   "metadata": {},
   "source": [
    "# Subj 2 overriding subj 1"
   ]
  },
  {
   "cell_type": "code",
   "execution_count": null,
   "id": "ba898c87",
   "metadata": {},
   "outputs": [],
   "source": [
    "subj2_js2 = pd.read_json('FishTaskPilotData/Data/subj02/test__Device_Data_Unity_C_Sharp_Client_VR__.json')"
   ]
  },
  {
   "cell_type": "code",
   "execution_count": null,
   "id": "d6fb18c4",
   "metadata": {},
   "outputs": [],
   "source": [
    "main_js2 = subj2_js2[subj2_js2['currentscene']=='mainexperiment']"
   ]
  },
  {
   "cell_type": "code",
   "execution_count": null,
   "id": "683fe49f",
   "metadata": {},
   "outputs": [],
   "source": [
    "stimuli_js2 = main_js2[main_js2['trialphase']=='stimuli']\n",
    "approach_js2 = stimuli_js2[stimuli_js2['action']=='approach']\n",
    "inactive_js2 = stimuli_js2[stimuli_js2['action']=='inactive']"
   ]
  },
  {
   "cell_type": "code",
   "execution_count": null,
   "id": "71f52916",
   "metadata": {},
   "outputs": [],
   "source": [
    "approach_hand_pos_z_arr = np.zeros(len(approach_js2))\n",
    "for i in range(len(approach_js2)):\n",
    "        hand_pos = approach_js2['right_hand_position'].iloc[i]\n",
    "        hand_pos_z = hand_pos[2]\n",
    "        approach_hand_pos_z_arr[i] = hand_pos_z\n",
    "\n",
    "inactive_hand_pos_z_arr = np.zeros(len(inactive_js2))\n",
    "for i in range(len(inactive_js2)):\n",
    "        hand_pos = inactive_js2['right_hand_position'].iloc[i]\n",
    "        hand_pos_z = hand_pos[2]\n",
    "        inactive_hand_pos_z_arr[i] = hand_pos_z\n"
   ]
  },
  {
   "cell_type": "code",
   "execution_count": null,
   "id": "e0c29644",
   "metadata": {},
   "outputs": [],
   "source": [
    "np.mean(approach_hand_pos_z_arr), np.std(approach_hand_pos_z_arr)"
   ]
  },
  {
   "cell_type": "code",
   "execution_count": null,
   "id": "9538e6ec",
   "metadata": {},
   "outputs": [],
   "source": [
    "approach_hand_pos_z_arr"
   ]
  },
  {
   "cell_type": "code",
   "execution_count": null,
   "id": "f6ab0818",
   "metadata": {},
   "outputs": [],
   "source": [
    "inactive_hand_pos_z_arr"
   ]
  },
  {
   "cell_type": "code",
   "execution_count": null,
   "id": "3ccf7394",
   "metadata": {},
   "outputs": [],
   "source": []
  },
  {
   "cell_type": "code",
   "execution_count": null,
   "id": "65467c9f",
   "metadata": {},
   "outputs": [],
   "source": []
  },
  {
   "cell_type": "code",
   "execution_count": null,
   "id": "937d574b",
   "metadata": {},
   "outputs": [],
   "source": [
    "all_hand_poz_z_arr = []\n",
    "for trial in range(1,241):\n",
    "    trial_stim_js2 = stimuli_js2[stimuli_js2['trialnum']==trial]\n",
    "    hand_pos_z_arr = np.zeros(len(trial_stim_js2))\n",
    "    for i in range(len(trial_stim_js2)):\n",
    "        hand_pos = trial_stim_js2['right_hand_position'].iloc[i]\n",
    "        hand_pos_z = hand_pos[2]\n",
    "        hand_pos_z_arr[i] = hand_pos_z\n",
    "    all_hand_poz_z_arr.append(np.array(hand_pos_z_arr))"
   ]
  },
  {
   "cell_type": "code",
   "execution_count": null,
   "id": "dd29ca5b",
   "metadata": {},
   "outputs": [],
   "source": [
    "fig, ax = plt.subplots()\n",
    "for trial in range(240):\n",
    "    ax.plot(all_hand_poz_z_arr[trial]-13.62, 'grey', alpha=0.2)\n",
    "\n",
    "for trial in [65,95,98,194,218]:\n",
    "    ax.plot(all_hand_poz_z_arr[trial]-13.62, 'red', alpha=0.6)\n",
    "for trial in [7,79,198]:\n",
    "    ax.plot(all_hand_poz_z_arr[trial]-13.62, 'blue', alpha=0.6)\n",
    "    \n",
    "ax.set_xlabel('time')\n",
    "ax.set_ylabel('approach-withdrawal')"
   ]
  },
  {
   "cell_type": "markdown",
   "id": "c91bf495",
   "metadata": {},
   "source": [
    "Note to self:\n",
    "Used PyDDM\n",
    "also check https://www.biorxiv.org/content/biorxiv/early/2022/07/19/2022.06.19.496747.full.pdf"
   ]
  },
  {
   "cell_type": "code",
   "execution_count": null,
   "id": "6588200a",
   "metadata": {},
   "outputs": [],
   "source": []
  }
 ],
 "metadata": {
  "kernelspec": {
   "display_name": "Python 3 (ipykernel)",
   "language": "python",
   "name": "python3"
  },
  "language_info": {
   "codemirror_mode": {
    "name": "ipython",
    "version": 3
   },
   "file_extension": ".py",
   "mimetype": "text/x-python",
   "name": "python",
   "nbconvert_exporter": "python",
   "pygments_lexer": "ipython3",
   "version": "3.8.12"
  }
 },
 "nbformat": 4,
 "nbformat_minor": 5
}
