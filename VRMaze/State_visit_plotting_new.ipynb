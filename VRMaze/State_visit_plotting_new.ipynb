{
 "cells": [
  {
   "cell_type": "code",
   "execution_count": 1,
   "id": "5a6f6ab6",
   "metadata": {},
   "outputs": [],
   "source": [
    "import numpy as np\n",
    "import pandas as pd\n",
    "import matplotlib.pyplot as plt"
   ]
  },
  {
   "cell_type": "code",
   "execution_count": 278,
   "id": "3708739a",
   "metadata": {},
   "outputs": [],
   "source": [
    "subj_df = pd.read_json('SEmazePilotData/Data/SUBJ19/Maze__Device_Data_Unity_C_Sharp_Client_VR__.json')"
   ]
  },
  {
   "cell_type": "code",
   "execution_count": 279,
   "id": "a6ca20ef",
   "metadata": {},
   "outputs": [],
   "source": [
    "subj_df = subj_df[subj_df['currentscene']=='BigMaze']"
   ]
  },
  {
   "cell_type": "code",
   "execution_count": 280,
   "id": "7416d576",
   "metadata": {},
   "outputs": [],
   "source": [
    "subj_df = subj_df[subj_df['trialnum']<21]"
   ]
  },
  {
   "cell_type": "code",
   "execution_count": 281,
   "id": "6e0917bd",
   "metadata": {},
   "outputs": [],
   "source": [
    "all_x_list = []\n",
    "all_y_list = []\n",
    "all_z_list = []\n",
    "\n",
    "trial_x_list = []\n",
    "trial_y_list = []\n",
    "trial_z_list = []\n",
    "\n",
    "shocks_list = []\n",
    "\n",
    "trialnum=0\n",
    "for i in range(len(subj_df)):\n",
    "    if (trialnum != subj_df.iloc[i].trialnum):\n",
    "#         print(trialnum, subj_df.iloc[i].trialnum)\n",
    "        all_x_list.append(trial_x_list)\n",
    "        all_y_list.append(trial_y_list)\n",
    "        all_z_list.append(trial_z_list)\n",
    "        trial_x_list = []\n",
    "        trial_y_list = []\n",
    "        trial_z_list = []\n",
    "        shocks_list.append(subj_df.iloc[i-1].numshocks)\n",
    "        trialnum = subj_df.iloc[i].trialnum\n",
    "    trial_x_list.append(subj_df.iloc[i].head_position[0])\n",
    "    trial_y_list.append(subj_df.iloc[i].head_position[1])\n",
    "    trial_z_list.append(subj_df.iloc[i].head_position[2])"
   ]
  },
  {
   "cell_type": "code",
   "execution_count": 282,
   "id": "88cdaa6f",
   "metadata": {},
   "outputs": [
    {
     "data": {
      "text/plain": [
       "20"
      ]
     },
     "execution_count": 282,
     "metadata": {},
     "output_type": "execute_result"
    }
   ],
   "source": [
    "len(shocks_list)"
   ]
  },
  {
   "cell_type": "code",
   "execution_count": 283,
   "id": "f21bfaa8",
   "metadata": {},
   "outputs": [
    {
     "data": {
      "text/plain": [
       "20"
      ]
     },
     "execution_count": 283,
     "metadata": {},
     "output_type": "execute_result"
    }
   ],
   "source": [
    "len(all_x_list)"
   ]
  },
  {
   "cell_type": "code",
   "execution_count": 284,
   "id": "f712f742",
   "metadata": {},
   "outputs": [],
   "source": [
    "flat_all_x = [item for sublist in all_x_list for item in sublist]\n",
    "flat_all_z = [item for sublist in all_z_list for item in sublist]"
   ]
  },
  {
   "cell_type": "code",
   "execution_count": 285,
   "id": "bec50bed",
   "metadata": {},
   "outputs": [],
   "source": [
    "# Centres: 2,7,...\n",
    "\n",
    "x_edges = np.arange(-0.5, 40, 5)\n",
    "z_edges = np.arange(-0.5, 45, 5)"
   ]
  },
  {
   "cell_type": "code",
   "execution_count": 286,
   "id": "96d8fe80",
   "metadata": {},
   "outputs": [],
   "source": [
    "H, _, _ = np.histogram2d(flat_all_x, flat_all_z, bins=(x_edges, z_edges))"
   ]
  },
  {
   "cell_type": "code",
   "execution_count": 287,
   "id": "1c19e4c6",
   "metadata": {},
   "outputs": [
    {
     "data": {
      "text/plain": [
       "<matplotlib.image.AxesImage at 0x1452b8130>"
      ]
     },
     "execution_count": 287,
     "metadata": {},
     "output_type": "execute_result"
    },
    {
     "data": {
      "image/png": "[encoded data removed]",
      "text/plain": [
       "<Figure size 720x720 with 1 Axes>"
      ]
     },
     "metadata": {
      "needs_background": "light"
     },
     "output_type": "display_data"
    }
   ],
   "source": [
    "fig = plt.figure(figsize=(10, 10))\n",
    "plt.imshow(H.T, interpolation='nearest', origin='lower',\n",
    "\n",
    "        extent=[x_edges[0], x_edges[-1], z_edges[0], z_edges[-1]])"
   ]
  },
  {
   "cell_type": "code",
   "execution_count": 288,
   "id": "5e1f64a8",
   "metadata": {},
   "outputs": [
    {
     "data": {
      "text/plain": [
       "array([-0.5,  4.5,  9.5, 14.5, 19.5, 24.5, 29.5, 34.5, 39.5])"
      ]
     },
     "execution_count": 288,
     "metadata": {},
     "output_type": "execute_result"
    }
   ],
   "source": [
    "np.arange(-0.5, 40, 5)"
   ]
  },
  {
   "cell_type": "code",
   "execution_count": 289,
   "id": "886b88b6",
   "metadata": {},
   "outputs": [],
   "source": [
    "x_centres = np.arange(-0.5, 40, 5) + 2.5\n",
    "z_centres = np.arange(-0.5, 45, 5) + 2.5"
   ]
  },
  {
   "cell_type": "code",
   "execution_count": 290,
   "id": "d72d7f21",
   "metadata": {},
   "outputs": [
    {
     "data": {
      "text/plain": [
       "(array([ 2.,  7., 12., 17., 22., 27., 32., 37., 42.]),\n",
       " array([ 2.,  7., 12., 17., 22., 27., 32., 37., 42., 47.]))"
      ]
     },
     "execution_count": 290,
     "metadata": {},
     "output_type": "execute_result"
    }
   ],
   "source": [
    "x_centres, z_centres"
   ]
  },
  {
   "cell_type": "code",
   "execution_count": 291,
   "id": "45d95592",
   "metadata": {},
   "outputs": [],
   "source": [
    "x_edges = np.arange(-0.5, 40, 5)\n",
    "z_edges = np.arange(-0.5, 45, 5)"
   ]
  },
  {
   "cell_type": "code",
   "execution_count": 292,
   "id": "cd339e8b",
   "metadata": {},
   "outputs": [],
   "source": [
    "def disc(x, edges, centres):\n",
    "    for i in range(len(edges)-1):\n",
    "        if x>=edges[i] and x<edges[i+1]:\n",
    "            return centres[i]"
   ]
  },
  {
   "cell_type": "code",
   "execution_count": 293,
   "id": "ee76dedc",
   "metadata": {},
   "outputs": [
    {
     "data": {
      "text/plain": [
       "22.0"
      ]
     },
     "execution_count": 293,
     "metadata": {},
     "output_type": "execute_result"
    }
   ],
   "source": [
    "disc(21, x_edges, x_centres)"
   ]
  },
  {
   "cell_type": "code",
   "execution_count": 294,
   "id": "7af3d36d",
   "metadata": {},
   "outputs": [],
   "source": [
    "# x_list = all_x_list[0]\n",
    "# z_list = all_z_list[0]\n",
    "\n",
    "x_list = flat_all_x\n",
    "z_list = flat_all_z\n",
    "\n",
    "\n",
    "disc_x_list = []\n",
    "disc_z_list = []\n",
    "pos = [x_list[0], z_list[0]]\n",
    "prev_disc_pos = [disc(pos[0], x_edges, x_centres), disc(pos[1], z_edges, z_centres)]\n",
    "for i in range(len(x_list)):\n",
    "    pos = [x_list[i], z_list[i]]\n",
    "    disc_pos = [disc(pos[0], x_edges, x_centres), disc(pos[1], z_edges, z_centres)]\n",
    "    if (disc_pos != prev_disc_pos):\n",
    "        disc_x_list.append(disc_pos[0])\n",
    "        disc_z_list.append(disc_pos[1])\n",
    "        prev_disc_pos = disc_pos"
   ]
  },
  {
   "cell_type": "code",
   "execution_count": 295,
   "id": "a521c233",
   "metadata": {},
   "outputs": [
    {
     "data": {
      "text/plain": [
       "<matplotlib.image.AxesImage at 0x16cfa8f70>"
      ]
     },
     "execution_count": 295,
     "metadata": {},
     "output_type": "execute_result"
    },
    {
     "data": {
      "image/png": "[encoded data removed]",
      "text/plain": [
       "<Figure size 720x720 with 1 Axes>"
      ]
     },
     "metadata": {
      "needs_background": "light"
     },
     "output_type": "display_data"
    }
   ],
   "source": [
    "H, _, _ = np.histogram2d(disc_x_list, disc_z_list, bins=(x_edges, z_edges))\n",
    "fig = plt.figure(figsize=(10, 10))\n",
    "plt.imshow(H.T, interpolation='nearest', origin='lower',\n",
    "\n",
    "        extent=[x_edges[0], x_edges[-1], z_edges[0], z_edges[-1]])"
   ]
  },
  {
   "cell_type": "code",
   "execution_count": 269,
   "id": "78bdfe43",
   "metadata": {},
   "outputs": [
    {
     "data": {
      "text/plain": [
       "438"
      ]
     },
     "execution_count": 269,
     "metadata": {},
     "output_type": "execute_result"
    }
   ],
   "source": [
    "CS = len(disc_x_list)\n",
    "CS"
   ]
  },
  {
   "cell_type": "code",
   "execution_count": 270,
   "id": "dfc8f22a",
   "metadata": {},
   "outputs": [
    {
     "data": {
      "text/plain": [
       "23"
      ]
     },
     "execution_count": 270,
     "metadata": {},
     "output_type": "execute_result"
    }
   ],
   "source": [
    "CP = sum(shocks_list)\n",
    "CP"
   ]
  },
  {
   "cell_type": "code",
   "execution_count": 273,
   "id": "7ae3684f",
   "metadata": {},
   "outputs": [],
   "source": [
    "CSs = [421, 324, 251, 377, 317, 444, 440, 453, 432, 487, 358, 470, 265, 356, 386, 438]\n",
    "CPs = [24, 99, 174, 52, 114, 50, 16, 17, 23, 25, 69, 18, 169, 147, 105, 23]"
   ]
  },
  {
   "cell_type": "code",
   "execution_count": 275,
   "id": "318403d0",
   "metadata": {},
   "outputs": [
    {
     "data": {
      "text/plain": [
       "16"
      ]
     },
     "execution_count": 275,
     "metadata": {},
     "output_type": "execute_result"
    }
   ],
   "source": [
    "len(CPs)"
   ]
  },
  {
   "cell_type": "code",
   "execution_count": 274,
   "id": "8498903b",
   "metadata": {},
   "outputs": [
    {
     "data": {
      "image/png": "[encoded data removed]",
      "text/plain": [
       "<Figure size 432x288 with 1 Axes>"
      ]
     },
     "metadata": {
      "needs_background": "light"
     },
     "output_type": "display_data"
    }
   ],
   "source": [
    "plt.scatter(CPs, CSs, cmap='hot')\n",
    "plt.xlabel('Cumulative Pain (CP)')\n",
    "plt.ylabel('Cumulative steps (CS)')\n",
    "plt.show()"
   ]
  },
  {
   "cell_type": "code",
   "execution_count": 276,
   "id": "be5c1e57",
   "metadata": {},
   "outputs": [],
   "source": [
    "import scipy as sp"
   ]
  },
  {
   "cell_type": "code",
   "execution_count": 277,
   "id": "4cca0616",
   "metadata": {},
   "outputs": [
    {
     "data": {
      "text/plain": [
       "PearsonRResult(statistic=-0.9132932828026943, pvalue=7.836053747712924e-07)"
      ]
     },
     "execution_count": 277,
     "metadata": {},
     "output_type": "execute_result"
    }
   ],
   "source": [
    "sp.stats.pearsonr(CSs, CPs)"
   ]
  },
  {
   "cell_type": "code",
   "execution_count": null,
   "id": "cd2f9989",
   "metadata": {},
   "outputs": [],
   "source": []
  }
 ],
 "metadata": {
  "kernelspec": {
   "display_name": "Python 3 (ipykernel)",
   "language": "python",
   "name": "python3"
  },
  "language_info": {
   "codemirror_mode": {
    "name": "ipython",
    "version": 3
   },
   "file_extension": ".py",
   "mimetype": "text/x-python",
   "name": "python",
   "nbconvert_exporter": "python",
   "pygments_lexer": "ipython3",
   "version": "3.8.12"
  }
 },
 "nbformat": 4,
 "nbformat_minor": 5
}
